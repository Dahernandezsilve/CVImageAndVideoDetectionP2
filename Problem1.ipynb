{
 "cells": [
  {
   "cell_type": "markdown",
   "metadata": {},
   "source": [
    "Universidad del Valle de Guatemala - UVG<br />\n",
    "Facultad de Computación<br />\n",
    "Visión por Computadora<br />\n",
    "Proyecto 2 - Detección de video e imágenes<br />\n",
    "Autores:<br />\n",
    " - Diego Alexander Hernández Silvestre - 21270<br />\n",
    " - Linda Inés Jiménez Vides - 21169<br />\n",
    " - José Andrés Auyón Cobar - 201579 "
   ]
  },
  {
   "cell_type": "code",
   "execution_count": null,
   "metadata": {
    "vscode": {
     "languageId": "plaintext"
    }
   },
   "outputs": [],
   "source": []
  }
 ],
 "metadata": {
  "language_info": {
   "name": "python"
  }
 },
 "nbformat": 4,
 "nbformat_minor": 2
}
